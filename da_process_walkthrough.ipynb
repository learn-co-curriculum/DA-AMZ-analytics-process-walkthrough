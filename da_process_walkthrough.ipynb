{
 "cells": [
  {
   "cell_type": "code",
   "execution_count": null,
   "id": "83c394c1-5642-4d66-ad10-017c4e035629",
   "metadata": {},
   "outputs": [],
   "source": [
    "import numpy as np\n",
    "import pandas as pd\n",
    "import seaborn as sns\n",
    "import matplotlib.pyplot as plt\n",
    "plt.style.use('fivethirtyeight')"
   ]
  },
  {
   "cell_type": "markdown",
   "id": "fa614621-a10a-4071-baec-cb3f6aa79d96",
   "metadata": {},
   "source": [
    "# The Data Analytics Process walkthrough"
   ]
  },
  {
   "cell_type": "markdown",
   "id": "db964d00-aa87-4208-b406-3863f31f1ccd",
   "metadata": {},
   "source": [
    "## Objectives"
   ]
  },
  {
   "cell_type": "markdown",
   "id": "e87d838b-6f96-4840-abcb-c53d8ae9754a",
   "metadata": {},
   "source": [
    "* Review the CRISP-DM process and its relation to the Data Science Lifecycle\\\n",
    "* Do a walkthrough example of this process with a relevant dataset"
   ]
  },
  {
   "cell_type": "markdown",
   "id": "fd23b805-7d96-4b98-af1d-a3383e7f7bf0",
   "metadata": {},
   "source": [
    "## CRISP-DM"
   ]
  },
  {
   "cell_type": "markdown",
   "id": "2d6eba9a-1808-442f-a395-afd0be917c1b",
   "metadata": {},
   "source": [
    "Recall that the Data Analytics/Data Science project cycle discussed in our last class. It is an open standard approach or process that describes common approaches used by data professionals and data mining experts. For us, as analysts, it is an adaptation or iteration of the CRISP-DM or CRoss Industry Standard Process for Data Mining model which includes in it process related to the statistical modeling of data and deployment of those models or algorithms in professional environments."
   ]
  },
  {
   "cell_type": "markdown",
   "id": "6db086fb-a65d-4368-a6bf-3c6ca4d86432",
   "metadata": {},
   "source": [
    "![](./images/crisp-dm.png)"
   ]
  },
  {
   "cell_type": "markdown",
   "id": "8176dde9-1d16-43fc-a47d-fe8373c9bb5e",
   "metadata": {},
   "source": [
    "Because we havent yet dealt with statistical models / algorithms just yet, our process is a broaded to a general lifecycle concerned with building domain knowledge through data exploration, data visualization so that we may provide solutions to a business problem, recommendations to a stakeholder or deeper insight into a particular domain for its own sake. "
   ]
  },
  {
   "cell_type": "markdown",
   "id": "c4a12707-fbae-4fe7-b1e0-be5b15453057",
   "metadata": {},
   "source": [
    "## The Data Science/Analytics Life Cycle"
   ]
  },
  {
   "cell_type": "markdown",
   "id": "737f76e6-bab3-424e-9d03-b825fa852289",
   "metadata": {},
   "source": [
    "![](./images/ds_lifecycle.png)"
   ]
  },
  {
   "cell_type": "markdown",
   "id": "9ca989a3-b426-45f6-bb4c-7b0f711c3853",
   "metadata": {},
   "source": [
    "## 1.) Business understanding : Building Domain knowledge."
   ]
  },
  {
   "cell_type": "markdown",
   "id": "3ecaab29-cbf9-438c-a43a-82248f6b8a16",
   "metadata": {},
   "source": [
    "* **How much or how many?** \n",
    "  * E.g. Distributions of variables. Simple counts or aggregate statistics (mean, median, mode,    variance, categorical counts (pd.DataFrame.value_counts() )\n",
    "\n",
    "\n",
    "* **Which category?**\n",
    "  * E.g. “what group(s) am I interested in” “what metrics or features are of importance?”\n",
    "\n",
    "\n",
    "* **Which Group?**\n",
    "  * E.g creating a number of groups (segments) of your customers based on their monetary or domain value.\n",
    "\n",
    "\n",
    "* **Is this weird?** \n",
    "    * E.g. Through visualization, observing strange effects in data: does revenue not track inventory -> could be a loss prevention/theft issue. Overall signals in the data that aren’t what one would expect or require further investigation.\n",
    "\n",
    "\n",
    "* **Which items would a customer/user/stakeholder prefer?**\n",
    "    * E.g “What recommendations can I make to existing customers or stakeholders”\n"
   ]
  },
  {
   "cell_type": "markdown",
   "id": "4fb5135a-95c1-4f60-8e6f-6a54b1914497",
   "metadata": {},
   "source": [
    "### **Business case/question:**\n",
    "Suppose your stakeholders would like to know generally, how their stores are performing across the USA and how their sales and profit are tracking and what areas might be good to invest or target to drive growth."
   ]
  },
  {
   "cell_type": "code",
   "execution_count": null,
   "id": "72dfcd96-9792-4ffa-9e28-bb0712e03d15",
   "metadata": {},
   "outputs": [],
   "source": [
    "df =  pd.read_csv('superstore.csv')"
   ]
  },
  {
   "cell_type": "code",
   "execution_count": null,
   "id": "4b7a53a4-6168-4f82-a5c0-9a60070ea507",
   "metadata": {},
   "outputs": [],
   "source": [
    "df.info()"
   ]
  },
  {
   "cell_type": "code",
   "execution_count": null,
   "id": "45b61fb6-3fef-4a3a-827f-e3c94c48a6fe",
   "metadata": {},
   "outputs": [],
   "source": [
    "df.head()"
   ]
  },
  {
   "cell_type": "markdown",
   "id": "7fa47198-6796-43d0-b575-1e623f314adc",
   "metadata": {},
   "source": [
    "### Data Cleaning\n",
    "\n",
    "There isnt a lot of data cleaning required here as this dataset has been carefully curated. Here is an example of a simple data cleaning measure one might take"
   ]
  },
  {
   "cell_type": "code",
   "execution_count": null,
   "id": "fa814c24-fde2-4ca3-beac-3e9c1e78430b",
   "metadata": {},
   "outputs": [],
   "source": [
    "# the column headers are all capitalized which makes accessing them slightly harder. I like to lower them while\n",
    "# while i perform analysis/visualization.\n",
    "\n",
    "df.columns = df.columns.str.lower()\n",
    "df.columns = df.columns.str.replace(' ','_')\n",
    "df.columns = df.columns.str.replace('-','_')\n",
    "df.columns"
   ]
  },
  {
   "cell_type": "code",
   "execution_count": null,
   "id": "c8034df3-a2e5-482f-a0f6-b8c0fb10416b",
   "metadata": {},
   "outputs": [],
   "source": [
    "df.region.value_counts()"
   ]
  },
  {
   "cell_type": "code",
   "execution_count": null,
   "id": "0867d5aa-9464-40d3-a457-89ac9d20a0e4",
   "metadata": {},
   "outputs": [],
   "source": [
    "df.country.value_counts()"
   ]
  },
  {
   "cell_type": "code",
   "execution_count": null,
   "id": "84c321da-a4c0-4c3a-a6a5-c8b4c79c469e",
   "metadata": {},
   "outputs": [],
   "source": [
    "df.isna().sum()"
   ]
  },
  {
   "cell_type": "markdown",
   "id": "85bd35e0-c59b-4d9c-adf2-f32c2625687c",
   "metadata": {},
   "source": [
    "## Data Visualization:"
   ]
  },
  {
   "cell_type": "markdown",
   "id": "f1b307e4-5901-477b-a8be-52923d07d16d",
   "metadata": {},
   "source": [
    "### The Histogram: _Understanding Typical Values and Spread in our Numerical Data_"
   ]
  },
  {
   "cell_type": "markdown",
   "id": "992da36c-7b91-4138-8ce7-8c9c9dfa476c",
   "metadata": {},
   "source": [
    "Our numerical data here is rather simple and make perfect candidates for our success metrics."
   ]
  },
  {
   "cell_type": "code",
   "execution_count": null,
   "id": "fd336570-c239-4868-8321-d4e3cfb79896",
   "metadata": {},
   "outputs": [],
   "source": [
    "# Firstly lets get only the subset of data we are interested in at the moment.\n",
    "df_dist = df[['sales','profit']]"
   ]
  },
  {
   "cell_type": "code",
   "execution_count": null,
   "id": "5a04044f-1c7b-48b6-86ed-0d867a357e08",
   "metadata": {},
   "outputs": [],
   "source": [
    "# initialize our plot space.\n",
    "plt.figure(figsize=[20,10])\n",
    "plt.suptitle(\"Checking Distribution and Outliers for Sales and Profit\", size=20)\n",
    "\n",
    "# sistogram for sales\n",
    "plt.subplot(2,3,1)\n",
    "plt.hist(df_dist['sales'], bins=200, color='#03396c')\n",
    "plt.xlim(0,1000)\n",
    "\n",
    "# boxplot for sales\n",
    "plt.subplot(2,3,2)\n",
    "sns.boxplot(df_dist['sales'], color='#b3cde0')\n",
    "\n",
    "# histogram for profit\n",
    "plt.subplot(2,3,4)\n",
    "plt.hist(df_dist['profit'], bins=200, color='#03396c')\n",
    "plt.xlim(-250,300)\n",
    "\n",
    "# Boxplot for profit\n",
    "plt.subplot(2,3,5)\n",
    "sns.boxplot(df_dist['profit'], color='#b3cde0')\n",
    "\n",
    "\n",
    "plt.show()"
   ]
  },
  {
   "cell_type": "markdown",
   "id": "821f0fdd-9040-4f6e-8059-b4b8228614f2",
   "metadata": {},
   "source": [
    "The boxplots look a bit compressed. We can see the presence of many outliers here which affects the scale of out plot. If we subselect as many of the outliers to not include our data, we can better visualize the data in the IQR etc"
   ]
  },
  {
   "cell_type": "code",
   "execution_count": null,
   "id": "5b3506d3-3332-4d3b-8d18-dbad92fe9e02",
   "metadata": {},
   "outputs": [],
   "source": [
    "# Subselecting the data so that the Outliers dont not compress the scale \n",
    "\n",
    "'''\n",
    "Notice that the data is being cut off here so that we can see certain details better. this is particular to the \n",
    "data we have sectioned off for plotting of the histogram. In general you want to be very careful around including/\n",
    "excluding outliers in your data and have good reasons for doing so, since these outliers may be relevant to \n",
    "the summary statistics and what conclusions we draw from them.\n",
    "'''\n",
    "\n",
    "df_dist = df_dist[df_dist['sales'] <= 2000]\n",
    "df_dist = df_dist[df_dist['profit'] <= 2000]\n",
    "df_dist = df_dist[df_dist['profit'] >= -200]"
   ]
  },
  {
   "cell_type": "code",
   "execution_count": null,
   "id": "86afc61d-ff11-445b-b328-bc86d0589815",
   "metadata": {},
   "outputs": [],
   "source": [
    "# initialize our plot space.\n",
    "plt.figure(figsize=[20,10])\n",
    "plt.suptitle(\"Checking Distribution and Outliers for Sales and Profit\", size=20)\n",
    "\n",
    "# sistogram for sales\n",
    "plt.subplot(2,3,1)\n",
    "plt.hist(df_dist.sales, bins=200, color='#03396c')\n",
    "plt.axvline(df_dist.sales.median())\n",
    "plt.xlim(0,1000)\n",
    "\n",
    "# boxplot for sales\n",
    "plt.subplot(2,3,2)\n",
    "sns.boxplot(df_dist.sales, color='#b3cde0')\n",
    "\n",
    "# histogram for profit\n",
    "plt.subplot(2,3,4)\n",
    "plt.hist(df_dist.profit, bins=200, color='#03396c')\n",
    "plt.axvline(df_dist.profit.median())\n",
    "plt.xlim(-250,300)\n",
    "\n",
    "# Boxplot for profit\n",
    "plt.subplot(2,3,5)\n",
    "sns.boxplot(df_dist.profit, color='#b3cde0')\n",
    "\n",
    "\n",
    "\n",
    "plt.show()"
   ]
  },
  {
   "cell_type": "markdown",
   "id": "73cc6822-8a3e-4e71-81f8-b6f1ad095bc1",
   "metadata": {},
   "source": [
    "**Add your conclusions Below:**"
   ]
  },
  {
   "cell_type": "markdown",
   "id": "3c4e2f18-41a8-4e2b-9311-89c6a763894c",
   "metadata": {},
   "source": []
  },
  {
   "cell_type": "markdown",
   "id": "99065351-f167-41d8-8a38-8c5602e76e96",
   "metadata": {},
   "source": [
    "### The Bar Chart : _Comparing Numerical and Categorical Values_\n",
    "\n",
    "In our case, `sales` is a good numerical feature and `region` are a good categorical feature. Therefore, a Bar Chart is the best visualization to convey insights here. This is because, with Bar Charts, you can show your Categorical Features on one of the axis and the Aggregration of your Numerical Features on the other."
   ]
  },
  {
   "cell_type": "code",
   "execution_count": null,
   "id": "dd88b1d2-ef73-47c1-b95f-f61139ce541d",
   "metadata": {},
   "outputs": [],
   "source": [
    "# lets make a bar chart for the data in question. \n",
    "\n",
    "# first lets subselect the data we would like to plot\n",
    "df_bar = df[['region','sales']]"
   ]
  },
  {
   "cell_type": "code",
   "execution_count": null,
   "id": "e9a0c1a8-36d1-4c13-9727-5269227d487f",
   "metadata": {},
   "outputs": [],
   "source": [
    "# Lets aggregate the data and format it so that it plots nicely \n",
    "df_bar = df_bar.groupby('region').mean().sort_values(by='sales', ascending=False)"
   ]
  },
  {
   "cell_type": "code",
   "execution_count": null,
   "id": "f197c2fb-ef21-4407-bb77-10472c949d58",
   "metadata": {},
   "outputs": [],
   "source": [
    "# Setting the figure size\n",
    "plt.figure(figsize=[15,8]) \n",
    "\n",
    "# Visualizing using Bar Chart\n",
    "plt.suptitle(\"Average Sales Across Different Regions\", size=20)\n",
    "\n",
    "# Plotting the BarChart\n",
    "plt.subplot(1,2,1)\n",
    "plt.bar(x=df_bar.index, height='sales', color = ['#011f4b','#03396c','#005b96','#6497b1'], data=df_bar)\n",
    "\n",
    "# Plotting the Horizontal BarChart (Use this if there are many unique values for a Categorical Feature)\n",
    "plt.subplot(1,2,2)\n",
    "plt.barh(y=df_bar.index, width='sales',color = ['#011f4b','#03396c','#005b96','#6497b1'], data=df_bar)\n",
    "plt.gca().invert_yaxis() # Inverting the Y Axis\n",
    "\n",
    "plt.show()"
   ]
  },
  {
   "cell_type": "markdown",
   "id": "4dab8f69-ffbd-4da7-b1c2-3227f837d391",
   "metadata": {},
   "source": [
    "* it is always better to display the values in the BarChart in an order(preferably highest to lowest).\n",
    "\n",
    "* You can further improve this plot by adding annotations for each of the bars. What I mean by that is, to show \"Sales\" values on top of each Bar. (consider using plt.text())\n",
    "\n",
    "* **Both bar charts convey the same insights. A horizontal bar chart is preferable when the number of unique values in the categorical feature is large.**"
   ]
  },
  {
   "cell_type": "markdown",
   "id": "8a427c63-9457-4ab0-9cb7-fb718dc98222",
   "metadata": {},
   "source": [
    "### The Line Plot: _Visualizing changes over time_"
   ]
  },
  {
   "cell_type": "markdown",
   "id": "a181524e-ba48-435c-970c-b8148dc11f69",
   "metadata": {},
   "source": [
    "It might be sensible to understand the behavior of sales over time. This kind of metric will allow us to see if there are any times of year to focus company efforts to increase sales where needed. Also it will allow us to have a more complete understanding of the market dynamic considered here."
   ]
  },
  {
   "cell_type": "markdown",
   "id": "e4343ea8-858e-4abe-857e-ee1b7f79178f",
   "metadata": {},
   "source": [
    "When visualizing data over time a line chart is best because it allows us to see trends through time and the data points connected hints at a dependency from one point to the next. As always, remember that **independent variables** go on the x-axis or the horizontal axis. **Dependent variables** go on the y-axis or the vertical axis. What does this mean?? it means that we suppose that whatever is affected by another variable goes on the y and what is doing the affecting goes on the x."
   ]
  },
  {
   "cell_type": "code",
   "execution_count": null,
   "id": "1d56dd5e-b0db-4b92-a397-f5d54a6f7358",
   "metadata": {},
   "outputs": [],
   "source": [
    "df.columns"
   ]
  },
  {
   "cell_type": "markdown",
   "id": "33b7a337-e1a7-4d48-b8ed-d8e4c98bd014",
   "metadata": {},
   "source": [
    "Notice that we have two numerical features that would be useful to plot together: `sales` and `profit`"
   ]
  },
  {
   "cell_type": "code",
   "execution_count": null,
   "id": "a52bb56e-2163-41ec-845e-23f739934aba",
   "metadata": {},
   "outputs": [],
   "source": [
    "df.order_date.head()"
   ]
  },
  {
   "cell_type": "code",
   "execution_count": null,
   "id": "28038c8d-6676-4d90-ae67-4054f55c3d63",
   "metadata": {},
   "outputs": [],
   "source": [
    "# First of all, we are going to take only the subset of data for our purpose. (To keep things simple)\n",
    "df_line = df[['order_date','sales','profit']].sort_values('order_date') # Chronological Ordering\n",
    "df_line['order_date'] = pd.to_datetime(df_line['order_date']) # Converting into DateTime\n",
    "df_line = df_line.groupby('order_date').mean() # Groupby to get the average Sales and Profit on each day\n",
    "\n",
    "# Visualizing the Line Chart\n",
    "plt.figure(figsize=[15,8])\n",
    "plt.plot(df_line.index, 'sales', data=df_line, color='#6497b1') # Avg Sales over Time\n",
    "plt.plot(df_line.index, 'profit', data=df_line, color='#03396c') # Avg Profit over Time\n",
    "plt.title(\"Average Sales and Profit over Time Period(2014-2018)\", size=20, pad=20)\n",
    "plt.legend()\n",
    "plt.show()"
   ]
  },
  {
   "cell_type": "markdown",
   "id": "e5874dd1-faec-4045-8aad-5b820f28eec6",
   "metadata": {},
   "source": [
    "* It is always better to display values in a line plot in a chronological order.\n",
    "\n",
    "* You can further improve this plot by adding annotations for a certain event in the timeline to catch the audiences or stakeholders attention."
   ]
  },
  {
   "cell_type": "markdown",
   "id": "be7e5c85-e58e-4dfe-887e-31b09dce98eb",
   "metadata": {},
   "source": [
    "**Add conclusions here:***"
   ]
  },
  {
   "cell_type": "markdown",
   "id": "3c8918c7-1ec8-4f3a-a5da-32355ee53f2f",
   "metadata": {},
   "source": []
  },
  {
   "cell_type": "markdown",
   "id": "f93a3ec1-47e7-4089-a3b6-d03aece99915",
   "metadata": {},
   "source": [
    "### The Scatter Plot: _Relationships between Numerical Features_"
   ]
  },
  {
   "cell_type": "markdown",
   "id": "d8295244-6d04-4eb0-ab77-84a69ceb7a05",
   "metadata": {},
   "source": [
    "Lets continue to inspect our numerical features: `sales` and `profit` and see how they are related and if any correlation may be present. We also have data that can be encoded in our scatterplot to give us a more detailed picture of the relationships at play between these variables. this is the `segment` feature"
   ]
  },
  {
   "cell_type": "code",
   "execution_count": null,
   "id": "e92d67d2-19ab-4cac-a648-2e22d1360c01",
   "metadata": {},
   "outputs": [],
   "source": [
    "df.segment.value_counts()"
   ]
  },
  {
   "cell_type": "code",
   "execution_count": null,
   "id": "0f237de1-955b-4010-8bff-c2047654a17f",
   "metadata": {},
   "outputs": [],
   "source": [
    "# lets subselect the data we're interested in plotting\n",
    "df_scatter = df[['sales','profit','segment']]\n",
    "\n",
    "# Create the figure space for our scatter plot.\n",
    "plt.figure(figsize=[15,8])\n",
    "\n",
    "# Profit in the Y axis (), and Sales in the X. Hue will classify the dots according to Segment.\n",
    "# The size of the dots are according to the volumen of \"Sales\".\n",
    "sns.scatterplot(x=df_scatter.sales, y=df_scatter.profit, hue=df_scatter.segment, palette=['#011f4b','#005b96','#6497b1'], size=df_scatter.sales, sizes=(100,1000), legend='auto') \n",
    "plt.title(\"Sales vs Profit Across Different Customer Segments\", size=20, pad=20)\n",
    "plt.show()"
   ]
  },
  {
   "cell_type": "markdown",
   "id": "5b084ce0-bc45-465e-ac1d-2023581b5f19",
   "metadata": {},
   "source": [
    "**Add your conclusions here:**"
   ]
  },
  {
   "cell_type": "markdown",
   "id": "14949bf6-cd69-4bf4-b68f-8bf50be2639b",
   "metadata": {},
   "source": []
  },
  {
   "cell_type": "markdown",
   "id": "a3e8c90b-f585-4b67-9205-7d2075e9f572",
   "metadata": {},
   "source": [
    "What other questions might we ask to help our stakeholders know more about their company success and where they might consider applying resources? lets take another look at the columns"
   ]
  },
  {
   "cell_type": "code",
   "execution_count": null,
   "id": "cee5627f-df91-49b8-86a7-e0c039da9b57",
   "metadata": {},
   "outputs": [],
   "source": [
    "df.columns"
   ]
  },
  {
   "cell_type": "code",
   "execution_count": null,
   "id": "958d2900-a081-4674-93a9-1ec8bffb8a00",
   "metadata": {},
   "outputs": [],
   "source": [
    "df.category"
   ]
  },
  {
   "cell_type": "code",
   "execution_count": null,
   "id": "df59530f-66c7-4802-a81e-a9a83547a8b5",
   "metadata": {},
   "outputs": [],
   "source": [
    "df.ship_mode"
   ]
  },
  {
   "cell_type": "markdown",
   "id": "e469fe99-1735-45dc-947e-cf7cbf4532ae",
   "metadata": {},
   "source": [
    "Maybe we can visualize sales and profit against `ship mode`... because `sales` and `profit` are numerical and would be dependent on the shipping mode... this is a hint to plot sales/profit on the y-axis and shipping mode on the x-axis. A stacked bar chart would be a nice choice here:"
   ]
  },
  {
   "cell_type": "code",
   "execution_count": null,
   "id": "fd341a27-21a7-451b-8d19-fa2dc3185303",
   "metadata": {},
   "outputs": [],
   "source": [
    "# Take a subset of the data we want to visualize.\n",
    "df_stackb = df[['ship_mode','sales','profit']]\n",
    "\n",
    "# Lets aggreggate sales and profit by ship_mode\n",
    "df_stackb = df_stackb.groupby(['ship_mode']).sum().reset_index()\n"
   ]
  },
  {
   "cell_type": "code",
   "execution_count": null,
   "id": "a3b91974-4450-4926-b7c8-4f0e7ad15f5b",
   "metadata": {},
   "outputs": [],
   "source": [
    "# Plot a stacked bar chart\n",
    "plt.figure(figsize=[8,12])\n",
    "plt.subplot(3,1,1)\n",
    "plt.bar(x=df_stackb.ship_mode, height=df_stackb.sales, color='#005b96')\n",
    "plt.bar(x=df_stackb.ship_mode, height=df_stackb.profit, bottom=df_stackb.sales, color='#6497b1')\n",
    "plt.title(\"Sales & Profit Across Ship Modes\", size=20, pad=20)\n",
    "plt.legend(['sales','profit'])"
   ]
  },
  {
   "cell_type": "code",
   "execution_count": null,
   "id": "81526b71-3cb4-4489-9470-54089cad5802",
   "metadata": {},
   "outputs": [],
   "source": [
    "df_sbar = df[['sales','profit','category']]\n",
    "            \n",
    "df_sbar = df_sbar.groupby(['category']).sum().reset_index()\n",
    "\n",
    "plt.bar(x=df_sbar.category, height=df_sbar.sales, color='#005b96')\n",
    "plt.bar(x=df_sbar.category, height=df_sbar.profit, bottom=df_sbar.sales, color='#6497b1')\n",
    "plt.title(\"Sales & Profit Across Category\", size=20, pad=20)\n",
    "plt.legend(['sales','profit'])\n",
    "             "
   ]
  },
  {
   "cell_type": "markdown",
   "id": "eef89d48-f3c3-455b-a67f-90eb361bace1",
   "metadata": {},
   "source": [
    "**Add conclusion here:**"
   ]
  },
  {
   "cell_type": "code",
   "execution_count": null,
   "id": "2d07e1b4-239d-4671-9729-7ef487ae8d9c",
   "metadata": {},
   "outputs": [],
   "source": []
  }
 ],
 "metadata": {
  "kernelspec": {
   "display_name": "Python 3",
   "language": "python",
   "name": "python3"
  },
  "language_info": {
   "codemirror_mode": {
    "name": "ipython",
    "version": 3
   },
   "file_extension": ".py",
   "mimetype": "text/x-python",
   "name": "python",
   "nbconvert_exporter": "python",
   "pygments_lexer": "ipython3",
   "version": "3.8.8"
  }
 },
 "nbformat": 4,
 "nbformat_minor": 5
}
